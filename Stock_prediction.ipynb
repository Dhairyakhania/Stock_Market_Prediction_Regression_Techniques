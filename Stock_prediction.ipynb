{
 "cells": [
  {
   "cell_type": "code",
   "execution_count": 1,
   "metadata": {},
   "outputs": [
    {
     "name": "stdout",
     "output_type": "stream",
     "text": [
      "[-6.33798045e-01  8.09857753e-01  8.23111274e-01 -5.99210241e-08]\n",
      "1.3766886570533643\n"
     ]
    }
   ],
   "source": [
    "\n",
    "#importing the necessary modules and library\n",
    "import pandas as pd\n",
    "import numpy as np\n",
    "import matplotlib.pyplot as plt\n",
    "from sklearn.model_selection import train_test_split\n",
    "from sklearn.linear_model import LinearRegression\n",
    "from sklearn import metrics\n",
    "\n",
    "#loading the csv file into dataframe\n",
    "\n",
    "stock=pd.read_csv(\"reliance1.csv\",index_col=\"Date\")\n",
    "stock.rename(columns={\"Total Traded Quantity\":\"Volume\"},inplace=True)#renaming the column name\n",
    "\n",
    "from matplotlib import style\n",
    "style.use('ggplot')\n",
    "\n",
    "#retreving the open,high,low and volume in X and closing into Y\n",
    "\n",
    "X=stock[[\"Open Price\",\"High Price\",\"Low Price\",\"Volume\"]].values \n",
    "Y=stock[\"Close Price\"].values\n",
    "\n",
    "#spliting the data into training and testing dataset\n",
    "x_train,x_test,y_train,y_test = train_test_split(X,Y,test_size=0.2,random_state=0)\n",
    "\n",
    "#creating the linear model \n",
    "reg=LinearRegression()\n",
    "\n",
    "#traning the linear model\n",
    "reg.fit(x_train,y_train)\n",
    "print(reg.coef_)\n",
    "print(reg.intercept_)"
   ]
  },
  {
   "cell_type": "code",
   "execution_count": 2,
   "metadata": {},
   "outputs": [
    {
     "data": {
      "text/html": [
       "<div>\n",
       "<style scoped>\n",
       "    .dataframe tbody tr th:only-of-type {\n",
       "        vertical-align: middle;\n",
       "    }\n",
       "\n",
       "    .dataframe tbody tr th {\n",
       "        vertical-align: top;\n",
       "    }\n",
       "\n",
       "    .dataframe thead th {\n",
       "        text-align: right;\n",
       "    }\n",
       "</style>\n",
       "<table border=\"1\" class=\"dataframe\">\n",
       "  <thead>\n",
       "    <tr style=\"text-align: right;\">\n",
       "      <th></th>\n",
       "      <th>Symbol</th>\n",
       "      <th>Series</th>\n",
       "      <th>Prev Close</th>\n",
       "      <th>Open Price</th>\n",
       "      <th>High Price</th>\n",
       "      <th>Low Price</th>\n",
       "      <th>Last Price</th>\n",
       "      <th>Close Price</th>\n",
       "      <th>Average Price</th>\n",
       "      <th>Volume</th>\n",
       "      <th>Turnover</th>\n",
       "      <th>No. of Trades</th>\n",
       "      <th>Deliverable Qty</th>\n",
       "      <th>% Dly Qt to Traded Qty</th>\n",
       "    </tr>\n",
       "    <tr>\n",
       "      <th>Date</th>\n",
       "      <th></th>\n",
       "      <th></th>\n",
       "      <th></th>\n",
       "      <th></th>\n",
       "      <th></th>\n",
       "      <th></th>\n",
       "      <th></th>\n",
       "      <th></th>\n",
       "      <th></th>\n",
       "      <th></th>\n",
       "      <th></th>\n",
       "      <th></th>\n",
       "      <th></th>\n",
       "      <th></th>\n",
       "    </tr>\n",
       "  </thead>\n",
       "  <tbody>\n",
       "    <tr>\n",
       "      <th>19-Nov-2019</th>\n",
       "      <td>RELIANCE</td>\n",
       "      <td>EQ</td>\n",
       "      <td>1459.20</td>\n",
       "      <td>1467.00</td>\n",
       "      <td>1514.9</td>\n",
       "      <td>1465.00</td>\n",
       "      <td>1511.55</td>\n",
       "      <td>1509.75</td>\n",
       "      <td>1496.45</td>\n",
       "      <td>13795569</td>\n",
       "      <td>2.064433e+10</td>\n",
       "      <td>285115</td>\n",
       "      <td>4937220</td>\n",
       "      <td>35.79</td>\n",
       "    </tr>\n",
       "    <tr>\n",
       "      <th>20-Nov-2019</th>\n",
       "      <td>RELIANCE</td>\n",
       "      <td>EQ</td>\n",
       "      <td>1509.75</td>\n",
       "      <td>1555.05</td>\n",
       "      <td>1572.4</td>\n",
       "      <td>1543.20</td>\n",
       "      <td>1548.50</td>\n",
       "      <td>1547.65</td>\n",
       "      <td>1559.65</td>\n",
       "      <td>19904164</td>\n",
       "      <td>3.104353e+10</td>\n",
       "      <td>376334</td>\n",
       "      <td>8724272</td>\n",
       "      <td>43.83</td>\n",
       "    </tr>\n",
       "    <tr>\n",
       "      <th>21-Nov-2019</th>\n",
       "      <td>RELIANCE</td>\n",
       "      <td>EQ</td>\n",
       "      <td>1547.65</td>\n",
       "      <td>1545.00</td>\n",
       "      <td>1556.0</td>\n",
       "      <td>1528.55</td>\n",
       "      <td>1540.50</td>\n",
       "      <td>1537.60</td>\n",
       "      <td>1538.44</td>\n",
       "      <td>6810577</td>\n",
       "      <td>1.047768e+10</td>\n",
       "      <td>160090</td>\n",
       "      <td>2929568</td>\n",
       "      <td>43.01</td>\n",
       "    </tr>\n",
       "    <tr>\n",
       "      <th>22-Nov-2019</th>\n",
       "      <td>RELIANCE</td>\n",
       "      <td>EQ</td>\n",
       "      <td>1537.60</td>\n",
       "      <td>1542.10</td>\n",
       "      <td>1569.5</td>\n",
       "      <td>1537.60</td>\n",
       "      <td>1548.05</td>\n",
       "      <td>1546.50</td>\n",
       "      <td>1551.32</td>\n",
       "      <td>10218978</td>\n",
       "      <td>1.585295e+10</td>\n",
       "      <td>200632</td>\n",
       "      <td>4268321</td>\n",
       "      <td>41.77</td>\n",
       "    </tr>\n",
       "    <tr>\n",
       "      <th>25-Nov-2019</th>\n",
       "      <td>RELIANCE</td>\n",
       "      <td>EQ</td>\n",
       "      <td>1546.50</td>\n",
       "      <td>1551.15</td>\n",
       "      <td>1564.8</td>\n",
       "      <td>1551.00</td>\n",
       "      <td>1562.00</td>\n",
       "      <td>1561.55</td>\n",
       "      <td>1559.10</td>\n",
       "      <td>6924313</td>\n",
       "      <td>1.079567e+10</td>\n",
       "      <td>119670</td>\n",
       "      <td>3320341</td>\n",
       "      <td>47.95</td>\n",
       "    </tr>\n",
       "  </tbody>\n",
       "</table>\n",
       "</div>"
      ],
      "text/plain": [
       "               Symbol Series  Prev Close  Open Price  High Price  Low Price  \\\n",
       "Date                                                                          \n",
       "19-Nov-2019  RELIANCE     EQ     1459.20     1467.00      1514.9    1465.00   \n",
       "20-Nov-2019  RELIANCE     EQ     1509.75     1555.05      1572.4    1543.20   \n",
       "21-Nov-2019  RELIANCE     EQ     1547.65     1545.00      1556.0    1528.55   \n",
       "22-Nov-2019  RELIANCE     EQ     1537.60     1542.10      1569.5    1537.60   \n",
       "25-Nov-2019  RELIANCE     EQ     1546.50     1551.15      1564.8    1551.00   \n",
       "\n",
       "             Last Price  Close Price  Average Price    Volume      Turnover  \\\n",
       "Date                                                                          \n",
       "19-Nov-2019     1511.55      1509.75        1496.45  13795569  2.064433e+10   \n",
       "20-Nov-2019     1548.50      1547.65        1559.65  19904164  3.104353e+10   \n",
       "21-Nov-2019     1540.50      1537.60        1538.44   6810577  1.047768e+10   \n",
       "22-Nov-2019     1548.05      1546.50        1551.32  10218978  1.585295e+10   \n",
       "25-Nov-2019     1562.00      1561.55        1559.10   6924313  1.079567e+10   \n",
       "\n",
       "             No. of Trades  Deliverable Qty  % Dly Qt to Traded Qty  \n",
       "Date                                                                 \n",
       "19-Nov-2019         285115          4937220                   35.79  \n",
       "20-Nov-2019         376334          8724272                   43.83  \n",
       "21-Nov-2019         160090          2929568                   43.01  \n",
       "22-Nov-2019         200632          4268321                   41.77  \n",
       "25-Nov-2019         119670          3320341                   47.95  "
      ]
     },
     "execution_count": 2,
     "metadata": {},
     "output_type": "execute_result"
    }
   ],
   "source": [
    "stock.head()"
   ]
  },
  {
   "cell_type": "code",
   "execution_count": 3,
   "metadata": {},
   "outputs": [
    {
     "name": "stdout",
     "output_type": "stream",
     "text": [
      "R2 score: 0.9988533120165956\n",
      "Mean Absolute Error: 8.901812965160989\n",
      "Mean Squared Error: 149.63257374583026\n",
      "Root Mean Squared Error: 12.232439402908573\n"
     ]
    },
    {
     "data": {
      "text/plain": [
       "<matplotlib.axes._subplots.AxesSubplot at 0x10e7154d348>"
      ]
     },
     "execution_count": 3,
     "metadata": {},
     "output_type": "execute_result"
    },
    {
     "data": {
      "image/png": "[encoded data removed]",
      "text/plain": [
       "<Figure size 432x288 with 1 Axes>"
      ]
     },
     "metadata": {},
     "output_type": "display_data"
    }
   ],
   "source": [
    "y_pred = reg.predict(x_train)\n",
    "result = pd.DataFrame({'Actual':y_train.flatten(),'Predicted':y_pred.flatten()})#converting predicted and actual into dataframe \n",
    "\n",
    "\n",
    "#metrics to show the performance\n",
    "print('R2 score:', metrics.r2_score(y_train, y_pred))\n",
    "print('Mean Absolute Error:', metrics.mean_absolute_error(y_train, y_pred))\n",
    "print('Mean Squared Error:', metrics.mean_squared_error(y_train, y_pred))\n",
    "print('Root Mean Squared Error:', np.sqrt(metrics.mean_squared_error(y_train, y_pred)))\n",
    "result.plot(kind=\"bar\")"
   ]
  },
  {
   "cell_type": "code",
   "execution_count": 4,
   "metadata": {},
   "outputs": [
    {
     "name": "stdout",
     "output_type": "stream",
     "text": [
      "R2 score: 0.999407553525413\n",
      "Mean Absolute Error: 6.607664810718814\n",
      "Mean Squared Error: 71.13873050791291\n",
      "Root Mean Squared Error: 8.434377896911716\n"
     ]
    },
    {
     "data": {
      "text/plain": [
       "<matplotlib.axes._subplots.AxesSubplot at 0x10e719e1a48>"
      ]
     },
     "execution_count": 4,
     "metadata": {},
     "output_type": "execute_result"
    },
    {
     "data": {
      "image/png": "[encoded data removed]",
      "text/plain": [
       "<Figure size 432x288 with 1 Axes>"
      ]
     },
     "metadata": {},
     "output_type": "display_data"
    }
   ],
   "source": [
    "y_pred = reg.predict(x_test)#predicting on the test dataset\n",
    "result = pd.DataFrame({'Actual':y_test.flatten(),'Predicted':y_pred.flatten()})#converting predicted and actual into dataframe \n",
    "\n",
    "#metrics to show the performance\n",
    "print('R2 score:', metrics.r2_score(y_test, y_pred))\n",
    "print('Mean Absolute Error:', metrics.mean_absolute_error(y_test, y_pred))\n",
    "print('Mean Squared Error:', metrics.mean_squared_error(y_test, y_pred))\n",
    "print('Root Mean Squared Error:', np.sqrt(metrics.mean_squared_error(y_test, y_pred)))\n",
    "result.plot(kind=\"bar\")"
   ]
  },
  {
   "cell_type": "code",
   "execution_count": null,
   "metadata": {},
   "outputs": [],
   "source": [
    "list=[]\n",
    "for i in range(0,4):\n",
    "    a=input(\"Enter the values in this order first open,high,low prices and then volume for that day\")\n",
    "    list.append(a)\n",
    "data=np.array(list,dtype=\"float64\").reshape(1,-1)\n",
    "close=reg.predict(data)"
   ]
  },
  {
   "cell_type": "code",
   "execution_count": null,
   "metadata": {},
   "outputs": [],
   "source": [
    "close"
   ]
  },
  {
   "cell_type": "code",
   "execution_count": null,
   "metadata": {},
   "outputs": [],
   "source": []
  }
 ],
 "metadata": {
  "kernelspec": {
   "display_name": "Python 3",
   "language": "python",
   "name": "python3"
  },
  "language_info": {
   "codemirror_mode": {
    "name": "ipython",
    "version": 3
   },
   "file_extension": ".py",
   "mimetype": "text/x-python",
   "name": "python",
   "nbconvert_exporter": "python",
   "pygments_lexer": "ipython3",
   "version": "3.7.6"
  }
 },
 "nbformat": 4,
 "nbformat_minor": 4
}
